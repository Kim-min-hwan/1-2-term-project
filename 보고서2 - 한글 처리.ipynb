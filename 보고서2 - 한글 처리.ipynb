{
 "cells": [
  {
   "cell_type": "markdown",
   "metadata": {},
   "source": [
    "#### 약어를 음소로 분리하고 합치기 위한 jamotools library 가져오기"
   ]
  },
  {
   "cell_type": "code",
   "execution_count": 1,
   "metadata": {},
   "outputs": [],
   "source": [
    "import jamotools"
   ]
  },
  {
   "cell_type": "markdown",
   "metadata": {},
   "source": [
    "#### Hangul.txt 불러오기"
   ]
  },
  {
   "cell_type": "code",
   "execution_count": 2,
   "metadata": {},
   "outputs": [
    {
     "name": "stdout",
     "output_type": "stream",
     "text": [
      "ㄱ1ㅣ2ㅂ1(ㅇ1운4)ㅈ1ㅗ2ㅎ3은4 0ㅂ1연4ㅎ1ㅘ2\n"
     ]
    }
   ],
   "source": [
    "f = open('Hangul.txt','r')\n",
    "contents = f.read()\n",
    "print(contents)\n",
    "f.close()"
   ]
  },
  {
   "cell_type": "markdown",
   "metadata": {},
   "source": [
    "#### 점자의 규칙성을 이용하여 약어 처리\n",
    "ex1) 초성 다음에 초성이 올 수 없으므로 약어가 다음으로 와야한다.(괄호부분 설명) <br>\n",
    "ex2) 초성 다음에 오는 약어는 초성과 합하여 'ㅇ'을 생략하고 합친다. <br>\n",
    "약어는 jamotools library를 이용하여 음소로 분리한다."
   ]
  },
  {
   "cell_type": "code",
   "execution_count": 3,
   "metadata": {
    "scrolled": true
   },
   "outputs": [
    {
     "name": "stdout",
     "output_type": "stream",
     "text": [
      "['ㄱ', '1', 'ㅣ', '2', 'ㅂ', '1', '(', 'ㅇ', '1', '운', '4', ')', 'ㅈ', '1', 'ㅗ', '2', 'ㅎ', '3', '은', '4', ' ', '0', 'ㅂ', '1', '연', '4', 'ㅎ', '1', 'ㅘ', '2']\n",
      "['ㄱ', 'ㅣ', 'ㅂ', 'ᅮ', 'ᆫ', 'ㅈ', 'ㅗ', 'ㅎ', 'ᄋ', 'ᅳ', 'ᆫ', ' ', 'ㅂ', 'ᅧ', 'ᆫ', 'ㅎ', 'ㅘ']\n"
     ]
    }
   ],
   "source": [
    "check_list=[]\n",
    "done_list=[]\n",
    "for i in contents:\n",
    "    check_list.append(i)\n",
    "print(check_list)\n",
    "idx_number = 0\n",
    "idx = 0\n",
    "check_number=0\n",
    "while idx != len(check_list):\n",
    "    idx_number += 0.5\n",
    "    idx = int(idx_number)\n",
    "    if check_number == 1:\n",
    "        if check_list[idx] == '2':\n",
    "            del check_list[idx-2]\n",
    "            check_number = 2\n",
    "        elif check_list[idx] == '(':\n",
    "            del check_list[idx+4:idx+6]\n",
    "            a = jamotools.split_syllable_char(check_list[idx+3])\n",
    "            del check_list[idx+3]\n",
    "            k=0\n",
    "            for i in a[1:]:\n",
    "                check_list.insert(idx+3+k,i)\n",
    "                k += 1\n",
    "            check_number = 0\n",
    "            del check_list[idx-1:idx+3] \n",
    "        elif check_list[idx] == '4':\n",
    "            a = jamotools.split_syllable_char(check_list[idx-1])\n",
    "            k=0\n",
    "            for i in a[1:]:\n",
    "                check_list.insert(idx-1+k,i)\n",
    "                k += 1\n",
    "            del check_list[idx-2]\n",
    "            del check_list[idx:idx+2]\n",
    "            check_number = 0        \n",
    "    elif check_number == 2:\n",
    "        if check_list[idx] == '1':\n",
    "            del check_list[idx-2]\n",
    "            check_number = 1\n",
    "        elif check_list[idx] == '2':\n",
    "            if check_list[idx-3] == 'ㅑ':\n",
    "                check_list[idx-3] = 'ㅒ'\n",
    "                del check_list[idx-1:idx]\n",
    "                check_number = 2\n",
    "            if check_list[idx-3] == 'ㅜ':\n",
    "                check_list[idx-3] = 'ㅟ'\n",
    "                del check_list[idx-1:idx]\n",
    "                check_number = 2\n",
    "        elif check_list[idx] == '3':\n",
    "            del check_list[idx-2]\n",
    "            check_number = 3\n",
    "        elif check_list[idx] == '0':\n",
    "            del check_list[idx-2]\n",
    "            check_number = '0'\n",
    "        elif check_list[idx] == '(':\n",
    "            check_number = 4\n",
    "            del check_list[idx-1]\n",
    "    elif check_number == 3:\n",
    "        if check_list[idx] == '1':\n",
    "            del check_list[idx-2]\n",
    "            check_number = 1\n",
    "        elif check_list[idx] == '(':\n",
    "            check_number = 4\n",
    "            del check_list[idx-1]\n",
    "        elif check_list[idx] == '0':\n",
    "            del check_list[idx-2]\n",
    "            check_number = '0'\n",
    "        elif check_list[idx] == '4':\n",
    "            a = jamotools.split_syllable_char(check_list[idx-1])\n",
    "            k=0\n",
    "            del check_list[idx-1:idx+1]\n",
    "            for i in a:\n",
    "                check_list.insert(idx-1+k,i)\n",
    "                k += 1\n",
    "            del check_list[idx-2]\n",
    "            check_number = 0\n",
    "    elif check_number == 4:\n",
    "        if check_list[idx] == '1':\n",
    "            del check_list[idx-7:idx-4]\n",
    "            del check_list[idx-3:idx-1]\n",
    "            a = jamotools.split_syllable_char(check_list[idx-4])\n",
    "            k=0\n",
    "            for i in a:\n",
    "                check_list.insert(idx-4+k,i)\n",
    "                k += 1\n",
    "            check_number = 0\n",
    "        elif check_list[idx] == '2':\n",
    "            del check_list[idx-5:idx-1]\n",
    "            del check_list[idx-7]\n",
    "            check_number = 2\n",
    "    elif check_number == '0':\n",
    "        if check_list[idx] == '1':\n",
    "            del check_list[idx-2]\n",
    "            check_number = 1\n",
    "        elif check_list[idx] == '4':\n",
    "            del check_list[idx-2]\n",
    "            a = jamotools.split_syllable_char(check_list[idx-1])\n",
    "            k=0\n",
    "            for i in a:\n",
    "                check_list.insert(idx-1+k,i)\n",
    "                k += 1\n",
    "            check_number = 0\n",
    "    elif check_number == 0:\n",
    "        if check_list[idx] == '0':\n",
    "            check_number = '0'\n",
    "        elif check_list[idx] == '1':\n",
    "            check_number = 1\n",
    "        elif check_list[idx] =='2':\n",
    "            check_number = 2\n",
    "        elif check_list[idx] == '3':\n",
    "            check_number =3\n",
    "        elif check_list[idx] == '4':\n",
    "            a = jamotools.split_syllable_char(check_list[idx-1])\n",
    "            k=0\n",
    "            for i in a:\n",
    "                check_list.insert(idx-1+k,i)\n",
    "                k += 1\n",
    "            check_number = 0\n",
    "check_list.pop()\n",
    "print(check_list)"
   ]
  },
  {
   "cell_type": "markdown",
   "metadata": {},
   "source": [
    "#### jamotools를 이용하여 음소를 음절로 바꿈"
   ]
  },
  {
   "cell_type": "code",
   "execution_count": 4,
   "metadata": {},
   "outputs": [
    {
     "name": "stdout",
     "output_type": "stream",
     "text": [
      "ㄱㅣㅂᅮᆫㅈㅗㅎ은 ㅂᅧᆫㅎㅘ\n"
     ]
    }
   ],
   "source": [
    "Hangul = ''\n",
    "for i in check_list:\n",
    "    Hangul += i\n",
    "print(Hangul)"
   ]
  },
  {
   "cell_type": "code",
   "execution_count": 5,
   "metadata": {},
   "outputs": [
    {
     "name": "stdout",
     "output_type": "stream",
     "text": [
      "기분좋은 변화\n"
     ]
    }
   ],
   "source": [
    "sentence = jamotools.join_jamos(Hangul)\n",
    "print(sentence)"
   ]
  },
  {
   "cell_type": "markdown",
   "metadata": {},
   "source": [
    "#### Hangul_Done.txt에 저장"
   ]
  },
  {
   "cell_type": "code",
   "execution_count": 6,
   "metadata": {},
   "outputs": [],
   "source": [
    "f = open('Hangul_Done.txt','w')\n",
    "f.write(sentence)\n",
    "f.close()"
   ]
  }
 ],
 "metadata": {
  "kernelspec": {
   "display_name": "Python 3",
   "language": "python",
   "name": "python3"
  },
  "language_info": {
   "codemirror_mode": {
    "name": "ipython",
    "version": 3
   },
   "file_extension": ".py",
   "mimetype": "text/x-python",
   "name": "python",
   "nbconvert_exporter": "python",
   "pygments_lexer": "ipython3",
   "version": "3.7.5"
  }
 },
 "nbformat": 4,
 "nbformat_minor": 2
}
